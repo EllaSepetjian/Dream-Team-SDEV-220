{
 "cells": [
  {
   "cell_type": "code",
   "execution_count": 13,
   "id": "ee7ca4d8",
   "metadata": {},
   "outputs": [
    {
     "data": {
      "text/plain": [
       "['mozzarella', 'cinderella', 'salmonella']"
      ]
     },
     "execution_count": 13,
     "metadata": {},
     "output_type": "execute_result"
    }
   ],
   "source": [
    "Q_7.4:\n",
    "\n",
    "things=list(['mozzarella','cinderella','salmonella'])\n",
    "things"
   ]
  },
  {
   "cell_type": "code",
   "execution_count": 7,
   "id": "b33b257a",
   "metadata": {},
   "outputs": [
    {
     "data": {
      "text/plain": [
       "['MOZZARELLA', 'cinderella', 'salmonella']"
      ]
     },
     "execution_count": 7,
     "metadata": {},
     "output_type": "execute_result"
    }
   ],
   "source": [
    "Q_7.5:\n",
    "\n",
    "things[1].capitalize()\n",
    "'cinderella'\n",
    "things\n",
    "\n",
    "\n"
   ]
  },
  {
   "cell_type": "code",
   "execution_count": 8,
   "id": "419586ce",
   "metadata": {},
   "outputs": [
    {
     "data": {
      "text/plain": [
       "['MOZZARELLA', 'cinderella', 'salmonella']"
      ]
     },
     "execution_count": 8,
     "metadata": {},
     "output_type": "execute_result"
    }
   ],
   "source": [
    "Q_7.6\n",
    "\n",
    "things[0]=things[0].upper()\n",
    "things"
   ]
  },
  {
   "cell_type": "code",
   "execution_count": 9,
   "id": "3e1226d2",
   "metadata": {},
   "outputs": [
    {
     "data": {
      "text/plain": [
       "['MOZZARELLA', 'cinderella']"
      ]
     },
     "execution_count": 9,
     "metadata": {},
     "output_type": "execute_result"
    }
   ],
   "source": [
    "Q_7.7\n",
    "\n",
    "things.remove(\"salmonella\")\n",
    "things"
   ]
  },
  {
   "cell_type": "code",
   "execution_count": 12,
   "id": "7ea5e261",
   "metadata": {},
   "outputs": [
    {
     "name": "stdout",
     "output_type": "stream",
     "text": [
      "['Harry', 'Ron', 'Hermione']\n"
     ]
    }
   ],
   "source": [
    "Q_9.1:\n",
    "\n",
    "def good():\n",
    "    return ['Harry','Ron','Hermione']\n",
    "\n",
    "print(good())\n"
   ]
  },
  {
   "cell_type": "code",
   "execution_count": 11,
   "id": "db638905",
   "metadata": {},
   "outputs": [
    {
     "name": "stdout",
     "output_type": "stream",
     "text": [
      "The third odd number is 5\n"
     ]
    }
   ],
   "source": [
    "Q_9.2:\n",
    "\n",
    "def get_odds():\n",
    "    for number in range(1,10,2):\n",
    "        yield number\n",
    "        \n",
    "count=1\n",
    "for number in get_odds():\n",
    "    if count==3:\n",
    "        print(\"The third odd number is\",number)\n",
    "        break\n",
    "    count+=1"
   ]
  },
  {
   "cell_type": "code",
   "execution_count": null,
   "id": "e782eef9",
   "metadata": {},
   "outputs": [],
   "source": []
  }
 ],
 "metadata": {
  "kernelspec": {
   "display_name": "Python 3 (ipykernel)",
   "language": "python",
   "name": "python3"
  },
  "language_info": {
   "codemirror_mode": {
    "name": "ipython",
    "version": 3
   },
   "file_extension": ".py",
   "mimetype": "text/x-python",
   "name": "python",
   "nbconvert_exporter": "python",
   "pygments_lexer": "ipython3",
   "version": "3.9.12"
  }
 },
 "nbformat": 4,
 "nbformat_minor": 5
}
